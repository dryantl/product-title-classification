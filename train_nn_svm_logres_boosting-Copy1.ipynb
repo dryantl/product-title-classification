{
 "cells": [
  {
   "cell_type": "markdown",
   "metadata": {},
   "source": [
    "# Import Useful Modules "
   ]
  },
  {
   "cell_type": "code",
   "execution_count": 2,
   "metadata": {},
   "outputs": [],
   "source": [
    "import tensorflow\n",
    "config = tensorflow.ConfigProto()\n",
    "config.gpu_options.per_process_gpu_memory_fraction = 0.5 #(misalnya kalo pengen 0.4 dari GPU memory)\n",
    "session = tensorflow.Session(config=config)"
   ]
  },
  {
   "cell_type": "code",
   "execution_count": 3,
   "metadata": {},
   "outputs": [],
   "source": [
    "import numpy as np\n",
    "import pandas as pd\n",
    "import matplotlib.pyplot as plt\n",
    "from time import gmtime, strftime\n",
    "import time\n",
    "import datetime\n",
    "from collections import Counter\n",
    "import pickle\n",
    "\n",
    "from sklearn.model_selection import train_test_split\n",
    "from sklearn.metrics import classification_report\n",
    "\n",
    "# Preprocessing\n",
    "from sklearn.preprocessing import LabelEncoder, OneHotEncoder\n",
    "\n",
    "# Embedder\n",
    "from gensim.models import FastText\n",
    "\n",
    "\n",
    "# # Classifier\n",
    "from xgboost import XGBClassifier as XGB\n",
    "from sklearn.svm import SVC\n",
    "from sklearn.ensemble import GradientBoostingClassifier as GBC\n",
    "from sklearn.linear_model import LogisticRegression as LR\n",
    "from sklearn.ensemble import RandomForestClassifier as RFC\n",
    "from sklearn.grid_search import GridSearchCV as GS\n",
    "from sklearn.model_selection import validation_curve, learning_curve\n",
    "from sklearn.decomposition import PCA\n",
    "from sklearn.preprocessing import PolynomialFeatures as Poly\n",
    "from sklearn.feature_extraction.text import TfidfTransformer\n",
    "from sklearn.feature_extraction.text import CountVectorizer\n",
    "\n",
    "from keras.models import Sequential, load_model\n",
    "from keras.layers import Dense, Activation, Dropout\n",
    "from keras.utils import to_categorical\n",
    "from keras.optimizers import SGD\n",
    "\n",
    "import tqdm"
   ]
  },
  {
   "cell_type": "code",
   "execution_count": 4,
   "metadata": {},
   "outputs": [],
   "source": [
    "#Determine Model's File Location\n",
    "\n",
    "version = \"version_x\""
   ]
  },
  {
   "cell_type": "markdown",
   "metadata": {},
   "source": [
    "# ---------------------------------------------------------------------------------------------------------------"
   ]
  },
  {
   "cell_type": "markdown",
   "metadata": {},
   "source": [
    "# Import Model"
   ]
  },
  {
   "cell_type": "code",
   "execution_count": 5,
   "metadata": {},
   "outputs": [],
   "source": [
    "from preprocessing_pipeline import preprocessing"
   ]
  },
  {
   "cell_type": "code",
   "execution_count": 6,
   "metadata": {},
   "outputs": [],
   "source": [
    "with open(\"model/{}/word_embedder.pickle\".format(version), \"rb\") as file:\n",
    "    word_embedder = pickle.load(file)"
   ]
  },
  {
   "cell_type": "markdown",
   "metadata": {},
   "source": [
    "## Check"
   ]
  },
  {
   "cell_type": "markdown",
   "metadata": {},
   "source": [
    "#### Preprocessing"
   ]
  },
  {
   "cell_type": "code",
   "execution_count": 7,
   "metadata": {},
   "outputs": [
    {
     "data": {
      "text/plain": [
       "<preprocessing_pipeline.preprocessing at 0x7f4156b8a748>"
      ]
     },
     "execution_count": 7,
     "metadata": {},
     "output_type": "execute_result"
    }
   ],
   "source": [
    "preprocessor=preprocessing(word_embedder.vector_size,word_embedder)\n",
    "preprocessor"
   ]
  },
  {
   "cell_type": "markdown",
   "metadata": {},
   "source": [
    "#### Word Embedding"
   ]
  },
  {
   "cell_type": "code",
   "execution_count": 8,
   "metadata": {},
   "outputs": [
    {
     "data": {
      "text/plain": [
       "<gensim.models.fasttext.FastText at 0x7f4156bc67f0>"
      ]
     },
     "execution_count": 8,
     "metadata": {},
     "output_type": "execute_result"
    }
   ],
   "source": [
    "word_embedder"
   ]
  },
  {
   "cell_type": "markdown",
   "metadata": {},
   "source": [
    "# ---------------------------------------------------------------------------------------------------------------"
   ]
  },
  {
   "cell_type": "markdown",
   "metadata": {},
   "source": [
    "# Read Data To Pandas Dataframe"
   ]
  },
  {
   "cell_type": "code",
   "execution_count": 9,
   "metadata": {},
   "outputs": [],
   "source": [
    "large_data_for_classification=pd.read_csv(\"data/query.csv\",header=None)\n",
    "large_data_for_classification.dropna(axis=0,inplace=True)"
   ]
  },
  {
   "cell_type": "code",
   "execution_count": 10,
   "metadata": {},
   "outputs": [
    {
     "data": {
      "text/html": [
       "<div>\n",
       "<style scoped>\n",
       "    .dataframe tbody tr th:only-of-type {\n",
       "        vertical-align: middle;\n",
       "    }\n",
       "\n",
       "    .dataframe tbody tr th {\n",
       "        vertical-align: top;\n",
       "    }\n",
       "\n",
       "    .dataframe thead th {\n",
       "        text-align: right;\n",
       "    }\n",
       "</style>\n",
       "<table border=\"1\" class=\"dataframe\">\n",
       "  <thead>\n",
       "    <tr style=\"text-align: right;\">\n",
       "      <th></th>\n",
       "      <th>0</th>\n",
       "      <th>1</th>\n",
       "      <th>2</th>\n",
       "    </tr>\n",
       "  </thead>\n",
       "  <tbody>\n",
       "    <tr>\n",
       "      <th>0</th>\n",
       "      <td>hunting</td>\n",
       "      <td>gear+camping</td>\n",
       "      <td>327</td>\n",
       "    </tr>\n",
       "    <tr>\n",
       "      <th>1</th>\n",
       "      <td>koleksi</td>\n",
       "      <td>Lightstick+EXO</td>\n",
       "      <td>63</td>\n",
       "    </tr>\n",
       "    <tr>\n",
       "      <th>2</th>\n",
       "      <td>kartu-perdana</td>\n",
       "      <td>vivo+v7</td>\n",
       "      <td>183</td>\n",
       "    </tr>\n",
       "    <tr>\n",
       "      <th>3</th>\n",
       "      <td>aksesoris-mobil</td>\n",
       "      <td>subwoofer+kolong+aktif</td>\n",
       "      <td>389</td>\n",
       "    </tr>\n",
       "    <tr>\n",
       "      <th>4</th>\n",
       "      <td>anak-perempuan</td>\n",
       "      <td>Hotpants+anak</td>\n",
       "      <td>1366</td>\n",
       "    </tr>\n",
       "  </tbody>\n",
       "</table>\n",
       "</div>"
      ],
      "text/plain": [
       "                 0                       1     2\n",
       "0          hunting            gear+camping   327\n",
       "1          koleksi          Lightstick+EXO    63\n",
       "2    kartu-perdana                 vivo+v7   183\n",
       "3  aksesoris-mobil  subwoofer+kolong+aktif   389\n",
       "4   anak-perempuan           Hotpants+anak  1366"
      ]
     },
     "execution_count": 10,
     "metadata": {},
     "output_type": "execute_result"
    }
   ],
   "source": [
    "large_data_for_classification.head()"
   ]
  },
  {
   "cell_type": "markdown",
   "metadata": {},
   "source": [
    "### Preprocess Data"
   ]
  },
  {
   "cell_type": "code",
   "execution_count": 10,
   "metadata": {},
   "outputs": [],
   "source": [
    "raw_category_mapper=pd.read_csv(\"raw_leaf.csv\",index_col=0)\n",
    "\n",
    "category_mapper={}\n",
    "for i in raw_category_mapper.index:\n",
    "    category_mapper[raw_category_mapper[\"l2\"][i]]=raw_category_mapper[\"l1\"][i]"
   ]
  },
  {
   "cell_type": "code",
   "execution_count": 11,
   "metadata": {},
   "outputs": [],
   "source": [
    "new_category=[category_mapper[value] for value in large_data_for_classification[0]]\n",
    "large_data_for_classification[0]=new_category"
   ]
  },
  {
   "cell_type": "code",
   "execution_count": 15,
   "metadata": {},
   "outputs": [
    {
     "name": "stderr",
     "output_type": "stream",
     "text": [
      "100%|██████████| 2440682/2440682 [06:09<00:00, 6605.80it/s]\n"
     ]
    }
   ],
   "source": [
    "product_title=[preprocessor.remove_parentheses(value) for value in tqdm.tqdm(large_data_for_classification[1])]"
   ]
  },
  {
   "cell_type": "code",
   "execution_count": 26,
   "metadata": {},
   "outputs": [],
   "source": [
    "def word_count(sentences):\n",
    "    counts = dict()\n",
    "    print(\"1/1\")\n",
    "    for sentence in sentences:\n",
    "        for word in sentence:\n",
    "            if word in counts:\n",
    "                counts[word] += 1\n",
    "            else:\n",
    "                counts[word] = 1\n",
    "    return counts"
   ]
  },
  {
   "cell_type": "code",
   "execution_count": 32,
   "metadata": {},
   "outputs": [],
   "source": [
    "def getFilteredData(product_title,frequency, N_words, word_length):\n",
    "    print(\"1/3\")\n",
    "    result=word_count(product_title)\n",
    "    print(\"2/3\")\n",
    "    new_product_title=[]\n",
    "    for sentence in tqdm.tqdm(product_title):\n",
    "        new_product_title.append([word for word in sentence if result[word]>=frequency and len(word)>=word_length])\n",
    "    print(\"3/3\")\n",
    "    new_product_title=[title for title in tqdm.tqdm(new_product_title) if len(title)>=N_words]\n",
    "    \n",
    "    return new_product_title"
   ]
  },
  {
   "cell_type": "code",
   "execution_count": null,
   "metadata": {},
   "outputs": [],
   "source": [
    "def getTfIdf(new_product_title):\n",
    "    print(\"1/3\")\n",
    "    concatenated_product_title=[]\n",
    "    for sentence in tqdm.tqdm(new_product_title):\n",
    "        concatenated_product_title.append(\" \".join(sentence))\n",
    "    print(\"2/3\")\n",
    "    cv=CountVectorizer()\n",
    "    result=cv.fit_transform(concatenated_product_title).toarray()\n",
    "    print(\"3/3\")\n",
    "    tftransformer = TfidfTransformer(smooth_idf=False)\n",
    "    final_result=tftransformer.fit_transform(result).toarray()\n",
    "    \n",
    "    return final_result,cv,tftransformer"
   ]
  },
  {
   "cell_type": "code",
   "execution_count": 29,
   "metadata": {},
   "outputs": [
    {
     "name": "stderr",
     "output_type": "stream",
     "text": [
      "100%|██████████| 2440682/2440682 [01:10<00:00, 34736.18it/s]\n",
      "100%|██████████| 2440682/2440682 [00:13<00:00, 186470.39it/s]\n"
     ]
    }
   ],
   "source": [
    "new_data=getFilteredData(product_title,50,2,2)"
   ]
  },
  {
   "cell_type": "code",
   "execution_count": 31,
   "metadata": {},
   "outputs": [
    {
     "name": "stderr",
     "output_type": "stream",
     "text": [
      "100%|██████████| 1757951/1757951 [00:13<00:00, 129835.47it/s]\n"
     ]
    },
    {
     "ename": "KeyboardInterrupt",
     "evalue": "",
     "output_type": "error",
     "traceback": [
      "\u001b[0;31m\u001b[0m",
      "\u001b[0;31mKeyboardInterrupt\u001b[0mTraceback (most recent call last)",
      "\u001b[0;32m<ipython-input-31-36452ced30d6>\u001b[0m in \u001b[0;36m<module>\u001b[0;34m()\u001b[0m\n\u001b[0;32m----> 1\u001b[0;31m \u001b[0mfinal_data\u001b[0m\u001b[0;34m,\u001b[0m\u001b[0mcount_vectorizer\u001b[0m\u001b[0;34m,\u001b[0m\u001b[0mtf_idf\u001b[0m\u001b[0;34m=\u001b[0m\u001b[0mgetTfIdf\u001b[0m\u001b[0;34m(\u001b[0m\u001b[0mnew_data\u001b[0m\u001b[0;34m)\u001b[0m\u001b[0;34m\u001b[0m\u001b[0m\n\u001b[0m",
      "\u001b[0;32m<ipython-input-30-9a8b52b8fa76>\u001b[0m in \u001b[0;36mgetTfIdf\u001b[0;34m(new_product_title)\u001b[0m\n\u001b[1;32m      6\u001b[0m     \u001b[0mresult\u001b[0m\u001b[0;34m=\u001b[0m\u001b[0mcv\u001b[0m\u001b[0;34m.\u001b[0m\u001b[0mfit_transform\u001b[0m\u001b[0;34m(\u001b[0m\u001b[0mconcatenated_product_title\u001b[0m\u001b[0;34m)\u001b[0m\u001b[0;34m.\u001b[0m\u001b[0mtoarray\u001b[0m\u001b[0;34m(\u001b[0m\u001b[0;34m)\u001b[0m\u001b[0;34m\u001b[0m\u001b[0m\n\u001b[1;32m      7\u001b[0m     \u001b[0mtftransformer\u001b[0m \u001b[0;34m=\u001b[0m \u001b[0mTfidfTransformer\u001b[0m\u001b[0;34m(\u001b[0m\u001b[0msmooth_idf\u001b[0m\u001b[0;34m=\u001b[0m\u001b[0;32mFalse\u001b[0m\u001b[0;34m)\u001b[0m\u001b[0;34m\u001b[0m\u001b[0m\n\u001b[0;32m----> 8\u001b[0;31m     \u001b[0mfinal_result\u001b[0m\u001b[0;34m=\u001b[0m\u001b[0mtftransformer\u001b[0m\u001b[0;34m.\u001b[0m\u001b[0mfit_transform\u001b[0m\u001b[0;34m(\u001b[0m\u001b[0mresult\u001b[0m\u001b[0;34m)\u001b[0m\u001b[0;34m.\u001b[0m\u001b[0mtoarray\u001b[0m\u001b[0;34m(\u001b[0m\u001b[0;34m)\u001b[0m\u001b[0;34m\u001b[0m\u001b[0m\n\u001b[0m\u001b[1;32m      9\u001b[0m \u001b[0;34m\u001b[0m\u001b[0m\n\u001b[1;32m     10\u001b[0m     \u001b[0;32mreturn\u001b[0m \u001b[0mfinal_result\u001b[0m\u001b[0;34m,\u001b[0m\u001b[0mcv\u001b[0m\u001b[0;34m,\u001b[0m\u001b[0mtftransformer\u001b[0m\u001b[0;34m\u001b[0m\u001b[0m\n",
      "\u001b[0;32m/opt/conda/lib/python3.6/site-packages/sklearn/base.py\u001b[0m in \u001b[0;36mfit_transform\u001b[0;34m(self, X, y, **fit_params)\u001b[0m\n\u001b[1;32m    515\u001b[0m         \u001b[0;32mif\u001b[0m \u001b[0my\u001b[0m \u001b[0;32mis\u001b[0m \u001b[0;32mNone\u001b[0m\u001b[0;34m:\u001b[0m\u001b[0;34m\u001b[0m\u001b[0m\n\u001b[1;32m    516\u001b[0m             \u001b[0;31m# fit method of arity 1 (unsupervised transformation)\u001b[0m\u001b[0;34m\u001b[0m\u001b[0;34m\u001b[0m\u001b[0m\n\u001b[0;32m--> 517\u001b[0;31m             \u001b[0;32mreturn\u001b[0m \u001b[0mself\u001b[0m\u001b[0;34m.\u001b[0m\u001b[0mfit\u001b[0m\u001b[0;34m(\u001b[0m\u001b[0mX\u001b[0m\u001b[0;34m,\u001b[0m \u001b[0;34m**\u001b[0m\u001b[0mfit_params\u001b[0m\u001b[0;34m)\u001b[0m\u001b[0;34m.\u001b[0m\u001b[0mtransform\u001b[0m\u001b[0;34m(\u001b[0m\u001b[0mX\u001b[0m\u001b[0;34m)\u001b[0m\u001b[0;34m\u001b[0m\u001b[0m\n\u001b[0m\u001b[1;32m    518\u001b[0m         \u001b[0;32melse\u001b[0m\u001b[0;34m:\u001b[0m\u001b[0;34m\u001b[0m\u001b[0m\n\u001b[1;32m    519\u001b[0m             \u001b[0;31m# fit method of arity 2 (supervised transformation)\u001b[0m\u001b[0;34m\u001b[0m\u001b[0;34m\u001b[0m\u001b[0m\n",
      "\u001b[0;32m/opt/conda/lib/python3.6/site-packages/sklearn/feature_extraction/text.py\u001b[0m in \u001b[0;36mfit\u001b[0;34m(self, X, y)\u001b[0m\n\u001b[1;32m   1054\u001b[0m         \"\"\"\n\u001b[1;32m   1055\u001b[0m         \u001b[0;32mif\u001b[0m \u001b[0;32mnot\u001b[0m \u001b[0msp\u001b[0m\u001b[0;34m.\u001b[0m\u001b[0missparse\u001b[0m\u001b[0;34m(\u001b[0m\u001b[0mX\u001b[0m\u001b[0;34m)\u001b[0m\u001b[0;34m:\u001b[0m\u001b[0;34m\u001b[0m\u001b[0m\n\u001b[0;32m-> 1056\u001b[0;31m             \u001b[0mX\u001b[0m \u001b[0;34m=\u001b[0m \u001b[0msp\u001b[0m\u001b[0;34m.\u001b[0m\u001b[0mcsc_matrix\u001b[0m\u001b[0;34m(\u001b[0m\u001b[0mX\u001b[0m\u001b[0;34m)\u001b[0m\u001b[0;34m\u001b[0m\u001b[0m\n\u001b[0m\u001b[1;32m   1057\u001b[0m         \u001b[0;32mif\u001b[0m \u001b[0mself\u001b[0m\u001b[0;34m.\u001b[0m\u001b[0muse_idf\u001b[0m\u001b[0;34m:\u001b[0m\u001b[0;34m\u001b[0m\u001b[0m\n\u001b[1;32m   1058\u001b[0m             \u001b[0mn_samples\u001b[0m\u001b[0;34m,\u001b[0m \u001b[0mn_features\u001b[0m \u001b[0;34m=\u001b[0m \u001b[0mX\u001b[0m\u001b[0;34m.\u001b[0m\u001b[0mshape\u001b[0m\u001b[0;34m\u001b[0m\u001b[0m\n",
      "\u001b[0;32m/opt/conda/lib/python3.6/site-packages/scipy/sparse/compressed.py\u001b[0m in \u001b[0;36m__init__\u001b[0;34m(self, arg1, shape, dtype, copy)\u001b[0m\n\u001b[1;32m     77\u001b[0m                         self.format)\n\u001b[1;32m     78\u001b[0m             \u001b[0;32mfrom\u001b[0m \u001b[0;34m.\u001b[0m\u001b[0mcoo\u001b[0m \u001b[0;32mimport\u001b[0m \u001b[0mcoo_matrix\u001b[0m\u001b[0;34m\u001b[0m\u001b[0m\n\u001b[0;32m---> 79\u001b[0;31m             \u001b[0mself\u001b[0m\u001b[0;34m.\u001b[0m\u001b[0m_set_self\u001b[0m\u001b[0;34m(\u001b[0m\u001b[0mself\u001b[0m\u001b[0;34m.\u001b[0m\u001b[0m__class__\u001b[0m\u001b[0;34m(\u001b[0m\u001b[0mcoo_matrix\u001b[0m\u001b[0;34m(\u001b[0m\u001b[0marg1\u001b[0m\u001b[0;34m,\u001b[0m \u001b[0mdtype\u001b[0m\u001b[0;34m=\u001b[0m\u001b[0mdtype\u001b[0m\u001b[0;34m)\u001b[0m\u001b[0;34m)\u001b[0m\u001b[0;34m)\u001b[0m\u001b[0;34m\u001b[0m\u001b[0m\n\u001b[0m\u001b[1;32m     80\u001b[0m \u001b[0;34m\u001b[0m\u001b[0m\n\u001b[1;32m     81\u001b[0m         \u001b[0;31m# Read matrix dimensions given, if any\u001b[0m\u001b[0;34m\u001b[0m\u001b[0;34m\u001b[0m\u001b[0m\n",
      "\u001b[0;32m/opt/conda/lib/python3.6/site-packages/scipy/sparse/coo.py\u001b[0m in \u001b[0;36m__init__\u001b[0;34m(self, arg1, shape, dtype, copy)\u001b[0m\n\u001b[1;32m    183\u001b[0m                     \u001b[0mself\u001b[0m\u001b[0;34m.\u001b[0m\u001b[0m_shape\u001b[0m \u001b[0;34m=\u001b[0m \u001b[0mcheck_shape\u001b[0m\u001b[0;34m(\u001b[0m\u001b[0mM\u001b[0m\u001b[0;34m.\u001b[0m\u001b[0mshape\u001b[0m\u001b[0;34m)\u001b[0m\u001b[0;34m\u001b[0m\u001b[0m\n\u001b[1;32m    184\u001b[0m \u001b[0;34m\u001b[0m\u001b[0m\n\u001b[0;32m--> 185\u001b[0;31m                 \u001b[0mself\u001b[0m\u001b[0;34m.\u001b[0m\u001b[0mrow\u001b[0m\u001b[0;34m,\u001b[0m \u001b[0mself\u001b[0m\u001b[0;34m.\u001b[0m\u001b[0mcol\u001b[0m \u001b[0;34m=\u001b[0m \u001b[0mM\u001b[0m\u001b[0;34m.\u001b[0m\u001b[0mnonzero\u001b[0m\u001b[0;34m(\u001b[0m\u001b[0;34m)\u001b[0m\u001b[0;34m\u001b[0m\u001b[0m\n\u001b[0m\u001b[1;32m    186\u001b[0m                 \u001b[0mself\u001b[0m\u001b[0;34m.\u001b[0m\u001b[0mdata\u001b[0m \u001b[0;34m=\u001b[0m \u001b[0mM\u001b[0m\u001b[0;34m[\u001b[0m\u001b[0mself\u001b[0m\u001b[0;34m.\u001b[0m\u001b[0mrow\u001b[0m\u001b[0;34m,\u001b[0m \u001b[0mself\u001b[0m\u001b[0;34m.\u001b[0m\u001b[0mcol\u001b[0m\u001b[0;34m]\u001b[0m\u001b[0;34m\u001b[0m\u001b[0m\n\u001b[1;32m    187\u001b[0m                 \u001b[0mself\u001b[0m\u001b[0;34m.\u001b[0m\u001b[0mhas_canonical_format\u001b[0m \u001b[0;34m=\u001b[0m \u001b[0;32mTrue\u001b[0m\u001b[0;34m\u001b[0m\u001b[0m\n",
      "\u001b[0;31mKeyboardInterrupt\u001b[0m: "
     ]
    }
   ],
   "source": [
    "final_data,count_vectorizer,tf_idf=getTfIdf(new_data)"
   ]
  },
  {
   "cell_type": "markdown",
   "metadata": {},
   "source": [
    "# ---------------------------------------------------------------------------------------------------------------"
   ]
  },
  {
   "cell_type": "markdown",
   "metadata": {},
   "source": [
    "# Neural Network"
   ]
  },
  {
   "cell_type": "code",
   "execution_count": null,
   "metadata": {},
   "outputs": [],
   "source": [
    "data=large_embedded_data\n",
    "sampled_embedded_data=data.sample(n=len(data))"
   ]
  },
  {
   "cell_type": "code",
   "execution_count": null,
   "metadata": {},
   "outputs": [],
   "source": [
    "nn_X_train,nn_X_test,nn_y_train,nn_y_test=train_test_split(sampled_embedded_data.drop(\"Labels\",axis=1),to_categorical(sampled_embedded_data[\"Labels\"]),test_size=0.02)"
   ]
  },
  {
   "cell_type": "code",
   "execution_count": null,
   "metadata": {},
   "outputs": [],
   "source": [
    "del large_embedded_data\n",
    "del large_data_for_classification\n",
    "del word_embedder\n",
    "del preprocessor"
   ]
  },
  {
   "cell_type": "code",
   "execution_count": null,
   "metadata": {},
   "outputs": [],
   "source": [
    "def accuracy(predicted,truth):\n",
    "    result=[int(value) for value in np.array(predicted)==np.array(truth)]\n",
    "    return sum(result)/len(result)"
   ]
  },
  {
   "cell_type": "code",
   "execution_count": null,
   "metadata": {},
   "outputs": [],
   "source": [
    "model = Sequential()\n",
    "model.add(Dense(4000, input_shape=(500,), activation='relu'))\n",
    "model.add(Dense(3000, activation='relu'))\n",
    "model.add(Dense(2000, activation='relu'))\n",
    "model.add(Dense(20, activation='softmax'))\n",
    "\n",
    "\n",
    "model.compile(optimizer=\"Adagrad\", loss='categorical_crossentropy',metrics=['accuracy'])"
   ]
  },
  {
   "cell_type": "code",
   "execution_count": null,
   "metadata": {},
   "outputs": [],
   "source": [
    "history = model.fit(nn_X_train, nn_y_train, epochs=10, batch_size=100, validation_data=(nn_X_test,nn_y_test), shuffle=True)"
   ]
  },
  {
   "cell_type": "code",
   "execution_count": null,
   "metadata": {},
   "outputs": [],
   "source": [
    "history = model.fit(nn_X_train, nn_y_train,initial_epoch=10,epochs=20, batch_size=100, validation_data=(nn_X_test,nn_y_test), shuffle=True)"
   ]
  },
  {
   "cell_type": "code",
   "execution_count": null,
   "metadata": {},
   "outputs": [],
   "source": [
    "import matplotlib.pyplot as plt"
   ]
  },
  {
   "cell_type": "code",
   "execution_count": null,
   "metadata": {},
   "outputs": [],
   "source": [
    "plt.plot(history.history[\"loss\"])\n",
    "plt.plot(history.history[\"val_loss\"])\n",
    "plt.show()"
   ]
  },
  {
   "cell_type": "code",
   "execution_count": null,
   "metadata": {},
   "outputs": [],
   "source": [
    "model.save(\"nn_experiment_90.h5\")"
   ]
  },
  {
   "cell_type": "markdown",
   "metadata": {},
   "source": [
    "# ---------------------------------------------------------------------------------------------------------------"
   ]
  },
  {
   "cell_type": "markdown",
   "metadata": {},
   "source": [
    "# Splitting Data"
   ]
  },
  {
   "cell_type": "code",
   "execution_count": 18,
   "metadata": {},
   "outputs": [],
   "source": [
    "data=large_embedded_data\n",
    "sampled_embedded_data=data.sample(n=len(data))"
   ]
  },
  {
   "cell_type": "code",
   "execution_count": 19,
   "metadata": {},
   "outputs": [],
   "source": [
    "X_train,X_test,y_train,y_test=train_test_split(sampled_embedded_data.drop(\"Labels\",axis=1), sampled_embedded_data[\"Labels\"],test_size=0.2)"
   ]
  },
  {
   "cell_type": "markdown",
   "metadata": {},
   "source": [
    "# ---------------------------------------------------------------------------------------------------------------"
   ]
  },
  {
   "cell_type": "markdown",
   "metadata": {},
   "source": [
    "# Logistic Regression"
   ]
  },
  {
   "cell_type": "markdown",
   "metadata": {},
   "source": [
    "Optimized"
   ]
  },
  {
   "cell_type": "code",
   "execution_count": null,
   "metadata": {},
   "outputs": [],
   "source": [
    "lr_parameters = {'C':[1,10,100],'class_weight':[\"balanced\",None],'solver':[\"newton-cg\",\"saga\",\"lbfgs\"]}\n",
    "\n",
    "classifier_lr=LR(n_jobs=-1)\n",
    "\n",
    "clf_lr = GS(classifier_lr, lr_parameters,verbose=4,cv=5)\n",
    "\n",
    "clf_lr.fit(X_train,y_train)"
   ]
  },
  {
   "cell_type": "code",
   "execution_count": null,
   "metadata": {},
   "outputs": [],
   "source": [
    "pickle.dump(clf_lr, open(\"lr_experiment.pickle\", 'wb'))"
   ]
  },
  {
   "cell_type": "markdown",
   "metadata": {},
   "source": [
    "No Optimization"
   ]
  },
  {
   "cell_type": "code",
   "execution_count": 28,
   "metadata": {},
   "outputs": [
    {
     "name": "stdout",
     "output_type": "stream",
     "text": [
      "Start Time : 2018-07-19 07:29:58.367029\n",
      "\n",
      "max_iter reached after 98 seconds\n"
     ]
    },
    {
     "name": "stderr",
     "output_type": "stream",
     "text": [
      "/opt/conda/lib/python3.6/site-packages/sklearn/linear_model/sag.py:326: ConvergenceWarning: The max_iter was reached which means the coef_ did not converge\n",
      "  \"the coef_ did not converge\", ConvergenceWarning)\n"
     ]
    },
    {
     "name": "stdout",
     "output_type": "stream",
     "text": [
      "max_iter reached after 98 seconds\n",
      "max_iter reached after 98 seconds\n",
      "max_iter reached after 98 seconds\n",
      "max_iter reached after 99 seconds\n",
      "max_iter reached after 99 seconds\n"
     ]
    },
    {
     "name": "stderr",
     "output_type": "stream",
     "text": [
      "[Parallel(n_jobs=-1)]: Done   5 out of  20 | elapsed:  1.7min remaining:  5.0min\n"
     ]
    },
    {
     "name": "stdout",
     "output_type": "stream",
     "text": [
      "max_iter reached after 100 seconds\n",
      "max_iter reached after 100 seconds\n",
      "max_iter reached after 100 seconds\n",
      "max_iter reached after 100 seconds\n",
      "max_iter reached after 100 seconds\n",
      "max_iter reached after 100 seconds\n"
     ]
    },
    {
     "name": "stderr",
     "output_type": "stream",
     "text": [
      "[Parallel(n_jobs=-1)]: Done  11 out of  20 | elapsed:  1.7min remaining:  1.4min\n",
      "[Parallel(n_jobs=-1)]: Done  17 out of  20 | elapsed:  1.7min remaining:   17.6s\n"
     ]
    },
    {
     "name": "stdout",
     "output_type": "stream",
     "text": [
      "max_iter reached after 100 seconds\n",
      "max_iter reached after 100 seconds\n",
      "max_iter reached after 100 seconds\n",
      "max_iter reached after 100 seconds\n",
      "max_iter reached after 100 seconds\n",
      "max_iter reached after 100 seconds\n",
      "max_iter reached after 100 seconds\n",
      "max_iter reached after 100 seconds\n",
      "Finish Time : 2018-07-19 07:31:38.464525\n",
      "\n"
     ]
    },
    {
     "name": "stderr",
     "output_type": "stream",
     "text": [
      "[Parallel(n_jobs=-1)]: Done  20 out of  20 | elapsed:  1.7min finished\n"
     ]
    }
   ],
   "source": [
    "print(\"Start Time : {}\\n\".format(str(datetime.datetime.now())))\n",
    "baseline_lr=LR(n_jobs=-1,solver=\"saga\")\n",
    "baseline_lr.fit(X_train,y_train)\n",
    "print(\"Finish Time : {}\\n\".format(str(datetime.datetime.now())))"
   ]
  },
  {
   "cell_type": "markdown",
   "metadata": {},
   "source": [
    "# ---------------------------------------------------------------------------------------------------------------"
   ]
  },
  {
   "cell_type": "markdown",
   "metadata": {},
   "source": [
    "# Support Vector Machine"
   ]
  },
  {
   "cell_type": "markdown",
   "metadata": {},
   "source": [
    "Optimized"
   ]
  },
  {
   "cell_type": "code",
   "execution_count": null,
   "metadata": {},
   "outputs": [],
   "source": [
    "svm_parameters = {'gamma':[0.1,1,10,100],'C':[1,10,100]}\n",
    "\n",
    "classifier_svm=SVC()\n",
    "\n",
    "clf_svm = GS(classifier_svm, svm_parameters,verbose=4,cv=5)\n",
    "\n",
    "clf_svm.fit(X_train,y_train)"
   ]
  },
  {
   "cell_type": "code",
   "execution_count": null,
   "metadata": {},
   "outputs": [],
   "source": [
    "pickle.dump(clf_svm, open(\"svm_experiment.pickle\", 'wb'))"
   ]
  },
  {
   "cell_type": "markdown",
   "metadata": {},
   "source": [
    "\n",
    "No Optimization"
   ]
  },
  {
   "cell_type": "code",
   "execution_count": null,
   "metadata": {},
   "outputs": [
    {
     "name": "stdout",
     "output_type": "stream",
     "text": [
      "Start Time : 2018-07-19 07:41:39.726667\n",
      "\n",
      "[LibSVM]"
     ]
    }
   ],
   "source": [
    "print(\"Start Time : {}\\n\".format(str(datetime.datetime.now())))\n",
    "baseline_svm = SVC(verbose=4)\n",
    "baseline_svm.fit(X_train,y_train)\n",
    "svm_pred=baseline_svm.predict(X_test)\n",
    "svm_truth=y_test\n",
    "print(\"Finish Time : {}\\n\".format(str(datetime.datetime.now())))\n",
    "print(classification_report(svm_pred,svm_truth))"
   ]
  },
  {
   "cell_type": "code",
   "execution_count": null,
   "metadata": {},
   "outputs": [
    {
     "name": "stdout",
     "output_type": "stream",
     "text": [
      "1\n"
     ]
    }
   ],
   "source": [
    "with open('svm_83','wb') as f:\n",
    "    pickle.dump(baseline_svm,f)"
   ]
  },
  {
   "cell_type": "code",
   "execution_count": null,
   "metadata": {},
   "outputs": [],
   "source": [
    "print(1)"
   ]
  },
  {
   "cell_type": "code",
   "execution_count": null,
   "metadata": {},
   "outputs": [],
   "source": [
    "baseline_svm.score(X_train,y_train)"
   ]
  },
  {
   "cell_type": "code",
   "execution_count": 24,
   "metadata": {},
   "outputs": [
    {
     "name": "stdout",
     "output_type": "stream",
     "text": [
      "             precision    recall  f1-score   support\n",
      "\n",
      "          0       0.67      0.70      0.68      3729\n",
      "          1       0.64      0.80      0.71       653\n",
      "          2       0.87      0.79      0.83     10278\n",
      "          3       0.75      0.85      0.80      4162\n",
      "          4       0.61      0.80      0.69       617\n",
      "          5       0.94      0.93      0.94     10595\n",
      "          6       0.87      0.74      0.80     10952\n",
      "          7       0.47      0.59      0.52      1119\n",
      "          8       0.88      0.90      0.89      2344\n",
      "          9       0.64      0.76      0.69      1026\n",
      "         10       0.88      0.90      0.89      5360\n",
      "         11       0.81      0.87      0.84      3237\n",
      "         12       0.93      0.93      0.93      8801\n",
      "         13       0.79      0.84      0.81      5023\n",
      "         14       0.76      0.83      0.79      1209\n",
      "         15       0.65      0.86      0.74       587\n",
      "         16       0.56      0.77      0.65       455\n",
      "         17       0.78      0.74      0.76      6131\n",
      "         18       0.90      0.92      0.91      2574\n",
      "         19       0.47      0.61      0.53        51\n",
      "\n",
      "avg / total       0.84      0.83      0.83     78903\n",
      "\n"
     ]
    }
   ],
   "source": [
    "print(classification_report(svm_pred,svm_truth))"
   ]
  },
  {
   "cell_type": "markdown",
   "metadata": {},
   "source": [
    "# ---------------------------------------------------------------------------------------------------------------"
   ]
  },
  {
   "cell_type": "markdown",
   "metadata": {},
   "source": [
    "# Gradient Boosting"
   ]
  },
  {
   "cell_type": "markdown",
   "metadata": {},
   "source": [
    "Optimized"
   ]
  },
  {
   "cell_type": "code",
   "execution_count": null,
   "metadata": {},
   "outputs": [],
   "source": [
    "gbc_parameters = {'max_depth':[25,50,100,200],\"min_samples_split\":[2,5,10],\"min_samples_leaf\":[1,4,8],\"learning_rate\":[0.01,0.05,0.1,0.2],\"max_depth\":[3,6,12]}\n",
    "\n",
    "classifier_gbc=GBC()\n",
    "\n",
    "clf_gbc = GS(classifier_gbc, gbc_parameters,verbose=4,cv=5)\n",
    "\n",
    "clf_gbc.fit(X_train,y_train)"
   ]
  },
  {
   "cell_type": "code",
   "execution_count": null,
   "metadata": {},
   "outputs": [],
   "source": [
    "pickle.dump(clf_gbc, open(\"gbc_experiment.pickle\", 'wb'))"
   ]
  },
  {
   "cell_type": "markdown",
   "metadata": {},
   "source": [
    "No Optimization"
   ]
  },
  {
   "cell_type": "code",
   "execution_count": null,
   "metadata": {},
   "outputs": [],
   "source": [
    "baseline_gbc=GBC(verbose=4)\n",
    "baseline_gbc.fit(X_train,y_train)\n",
    "baseline_gbc.score(X_test,y_test)"
   ]
  },
  {
   "cell_type": "markdown",
   "metadata": {},
   "source": [
    "# ---------------------------------------------------------------------------------------------------------------"
   ]
  },
  {
   "cell_type": "markdown",
   "metadata": {},
   "source": [
    "# XGBoost"
   ]
  },
  {
   "cell_type": "code",
   "execution_count": 33,
   "metadata": {},
   "outputs": [
    {
     "name": "stdout",
     "output_type": "stream",
     "text": [
      "Start Time : 2018-07-18 10:52:27.461172\n",
      "\n",
      "Finish Time : 2018-07-18 11:06:38.915193\n",
      "\n"
     ]
    }
   ],
   "source": [
    "print(\"Start Time : {}\\n\".format(str(datetime.datetime.now())))\n",
    "baseline_xgb=XGB(n_jobs=-1,silent=True)\n",
    "baseline_xgb.fit(X_train,y_train)\n",
    "base_truth_xgb=y_test\n",
    "pred_xgb=baseline_xgb.predict(X_test)\n",
    "print(\"Finish Time : {}\\n\".format(str(datetime.datetime.now())))"
   ]
  },
  {
   "cell_type": "code",
   "execution_count": 35,
   "metadata": {},
   "outputs": [
    {
     "name": "stdout",
     "output_type": "stream",
     "text": [
      "             precision    recall  f1-score   support\n",
      "\n",
      "          0       0.57      0.51      0.54      3884\n",
      "          1       0.77      0.46      0.57       862\n",
      "          2       0.67      0.82      0.74      9564\n",
      "          3       0.77      0.58      0.66      4850\n",
      "          4       0.71      0.34      0.46       748\n",
      "          5       0.84      0.90      0.87     10524\n",
      "          6       0.58      0.75      0.66      9230\n",
      "          7       0.51      0.25      0.34      1423\n",
      "          8       0.84      0.74      0.79      2475\n",
      "          9       0.68      0.36      0.47      1201\n",
      "         10       0.79      0.77      0.78      5408\n",
      "         11       0.77      0.63      0.69      3388\n",
      "         12       0.82      0.87      0.85      8504\n",
      "         13       0.76      0.60      0.67      5555\n",
      "         14       0.74      0.60      0.66      1388\n",
      "         15       0.84      0.47      0.60       749\n",
      "         16       0.70      0.20      0.31       636\n",
      "         17       0.58      0.68      0.62      5814\n",
      "         18       0.85      0.77      0.80      2621\n",
      "         19       0.70      0.44      0.54        79\n",
      "\n",
      "avg / total       0.72      0.72      0.71     78903\n",
      "\n"
     ]
    }
   ],
   "source": [
    "print(classification_report(base_truth_xgb,pred_xgb))"
   ]
  },
  {
   "cell_type": "markdown",
   "metadata": {},
   "source": [
    "# ---------------------------------------------------------------------------------------------------------------"
   ]
  },
  {
   "cell_type": "code",
   "execution_count": 7,
   "metadata": {},
   "outputs": [],
   "source": [
    "large_data_for_classification=pd.read_csv(\"data/big.csv\",header=None)\n",
    "large_data_for_classification.dropna(axis=0,inplace=True)"
   ]
  },
  {
   "cell_type": "code",
   "execution_count": 8,
   "metadata": {},
   "outputs": [
    {
     "name": "stderr",
     "output_type": "stream",
     "text": [
      "  1%|          | 4785/396099 [00:00<00:16, 23916.95it/s]"
     ]
    },
    {
     "name": "stdout",
     "output_type": "stream",
     "text": [
      "REMOVING PUNCTUATIONS\n"
     ]
    },
    {
     "name": "stderr",
     "output_type": "stream",
     "text": [
      "100%|██████████| 396099/396099 [00:03<00:00, 106769.54it/s]\n",
      "  1%|          | 3285/396099 [00:00<00:23, 16418.64it/s]"
     ]
    },
    {
     "name": "stdout",
     "output_type": "stream",
     "text": [
      "CONVERTING SENTENCE TO VECTOR\n"
     ]
    },
    {
     "name": "stderr",
     "output_type": "stream",
     "text": [
      "100%|██████████| 396099/396099 [00:22<00:00, 17495.56it/s]\n",
      "  0%|          | 0/100 [00:00<?, ?it/s]"
     ]
    },
    {
     "name": "stdout",
     "output_type": "stream",
     "text": [
      "SAVE VECTOR TO PANDAS DATAFRAME\n"
     ]
    },
    {
     "name": "stderr",
     "output_type": "stream",
     "text": [
      "100%|██████████| 100/100 [00:21<00:00,  4.61it/s]\n"
     ]
    }
   ],
   "source": [
    "#preprocess product title to 100-dimensional vector\n",
    "#and preprocess category name to integer label\n",
    "large_embedded_data, large_label_encoder = preprocessor.preprocess_data(\n",
    "    large_data_for_classification[1],\n",
    "    large_data_for_classification[0],\n",
    ")"
   ]
  },
  {
   "cell_type": "code",
   "execution_count": 9,
   "metadata": {},
   "outputs": [],
   "source": [
    "large_embedded_data[\"sum\"]=large_embedded_data.drop([\"Labels\"],axis=1).sum(axis=1)"
   ]
  },
  {
   "cell_type": "code",
   "execution_count": 10,
   "metadata": {},
   "outputs": [],
   "source": [
    "large_embedded_data=large_embedded_data.loc[large_embedded_data[\"sum\"]!=0].drop(\"sum\",axis=1)"
   ]
  },
  {
   "cell_type": "code",
   "execution_count": 11,
   "metadata": {},
   "outputs": [],
   "source": [
    "data=large_embedded_data\n",
    "sampled_embedded_data=data.sample(n=len(data))"
   ]
  },
  {
   "cell_type": "code",
   "execution_count": 12,
   "metadata": {},
   "outputs": [],
   "source": [
    "X_train,X_test,y_train,y_test=train_test_split(sampled_embedded_data.drop(\"Labels\",axis=1), sampled_embedded_data[\"Labels\"],test_size=0.2)"
   ]
  },
  {
   "cell_type": "code",
   "execution_count": 15,
   "metadata": {},
   "outputs": [
    {
     "name": "stdout",
     "output_type": "stream",
     "text": [
      "             precision    recall  f1-score   support\n",
      "\n",
      "          0       0.72      0.53      0.61       191\n",
      "          1       0.64      0.54      0.59      2294\n",
      "          2       0.72      0.57      0.64      3385\n",
      "          3       0.70      0.09      0.15       242\n",
      "          4       0.00      0.00      0.00         3\n",
      "          5       0.59      0.61      0.60      2032\n",
      "          6       0.61      0.51      0.56      2806\n",
      "          7       0.56      0.22      0.31       291\n",
      "          8       0.49      0.30      0.37       213\n",
      "          9       0.64      0.37      0.47       355\n",
      "         10       0.52      0.23      0.32       203\n",
      "         11       0.63      0.56      0.59       290\n",
      "         12       0.40      0.18      0.25       237\n",
      "         13       0.69      0.51      0.59       363\n",
      "         14       0.86      0.80      0.83       274\n",
      "         15       0.74      0.60      0.66       176\n",
      "         16       0.68      0.52      0.59       384\n",
      "         17       0.78      0.64      0.70       180\n",
      "         18       0.86      0.88      0.87       723\n",
      "         19       0.74      0.65      0.69       601\n",
      "         20       0.81      0.75      0.78        51\n",
      "         21       0.71      0.72      0.72       995\n",
      "         22       0.64      0.35      0.45        80\n",
      "         23       0.55      0.24      0.33        67\n",
      "         24       0.65      0.50      0.56       103\n",
      "         25       0.67      0.69      0.68       439\n",
      "         26       0.58      0.11      0.18        64\n",
      "         27       0.60      0.48      0.53       700\n",
      "         28       0.80      0.82      0.81       240\n",
      "         29       0.54      0.25      0.34       265\n",
      "         30       0.48      0.61      0.54      3888\n",
      "         31       0.57      0.53      0.55       985\n",
      "         32       0.64      0.36      0.46       291\n",
      "         33       0.59      0.35      0.44       323\n",
      "         34       0.91      0.36      0.51        28\n",
      "         35       0.61      0.80      0.69      5639\n",
      "         36       0.61      0.58      0.59      2637\n",
      "         37       0.57      0.53      0.55       661\n",
      "         38       0.80      0.73      0.76       114\n",
      "         39       0.73      0.63      0.67       342\n",
      "         40       0.67      0.76      0.71       688\n",
      "         41       0.00      0.00      0.00         7\n",
      "         42       0.63      0.61      0.62      1142\n",
      "         43       0.90      0.81      0.85        43\n",
      "         44       0.70      0.86      0.77      7222\n",
      "         45       0.71      0.70      0.71       988\n",
      "         46       0.60      0.03      0.06        88\n",
      "         47       0.45      0.36      0.40       202\n",
      "         48       0.33      0.15      0.21       816\n",
      "         49       0.56      0.18      0.27       113\n",
      "         50       0.83      0.85      0.84       259\n",
      "         51       0.61      0.33      0.43       166\n",
      "         52       0.71      0.78      0.74      2005\n",
      "         53       0.62      0.06      0.12       248\n",
      "         54       0.00      0.00      0.00         2\n",
      "         55       0.64      0.47      0.54        15\n",
      "         56       1.00      0.40      0.57         5\n",
      "         57       0.75      1.00      0.86         3\n",
      "         58       0.58      0.56      0.57      1972\n",
      "         59       0.72      0.72      0.72      1819\n",
      "         60       0.51      0.20      0.28       261\n",
      "         61       0.64      0.71      0.67      2520\n",
      "         62       1.00      0.51      0.68        43\n",
      "         63       0.59      0.61      0.60       409\n",
      "         64       0.51      0.48      0.49       551\n",
      "         65       0.49      0.22      0.31       276\n",
      "         66       0.00      0.00      0.00         2\n",
      "         68       0.79      0.67      0.73      1367\n",
      "         69       0.55      0.56      0.56       796\n",
      "         70       0.42      0.12      0.19       745\n",
      "         71       0.57      0.45      0.50      1188\n",
      "         72       0.77      0.47      0.58       376\n",
      "         73       0.79      0.78      0.79      1642\n",
      "         74       0.61      0.42      0.49       118\n",
      "         75       0.86      0.87      0.87       870\n",
      "         76       0.78      0.57      0.66       118\n",
      "         77       0.57      0.41      0.48        41\n",
      "         78       0.53      0.29      0.38       308\n",
      "         79       0.48      0.28      0.35       223\n",
      "         80       0.50      0.43      0.47       230\n",
      "         81       0.76      0.54      0.63       575\n",
      "         82       1.00      0.06      0.11        18\n",
      "         83       0.00      0.00      0.00         6\n",
      "         84       0.66      0.58      0.62       639\n",
      "         85       0.77      0.72      0.75       299\n",
      "         86       0.00      0.00      0.00         7\n",
      "         87       0.51      0.34      0.41       183\n",
      "         88       0.41      0.18      0.25        72\n",
      "         89       0.78      0.53      0.63        95\n",
      "         90       0.38      0.53      0.44      2870\n",
      "         91       0.74      0.61      0.67        69\n",
      "         92       0.57      0.23      0.33       128\n",
      "         93       0.60      0.63      0.62       115\n",
      "         94       0.58      0.43      0.50        60\n",
      "         95       0.82      0.82      0.82      1005\n",
      "         96       0.72      0.46      0.56       593\n",
      "         97       0.65      0.82      0.73      1980\n",
      "         98       0.22      0.02      0.04        82\n",
      "         99       0.78      0.70      0.74        20\n",
      "        100       0.69      0.83      0.75      4244\n",
      "        101       0.76      0.61      0.68       152\n",
      "        102       0.67      0.22      0.33        27\n",
      "        103       0.66      0.72      0.69      1086\n",
      "        104       0.69      0.66      0.68       706\n",
      "        105       0.72      0.59      0.65        58\n",
      "        106       0.85      0.62      0.72        71\n",
      "        107       0.65      0.41      0.51        58\n",
      "        108       0.78      0.69      0.73       418\n",
      "        109       0.82      0.60      0.70       225\n",
      "\n",
      "avg / total       0.64      0.64      0.63     78903\n",
      "\n"
     ]
    },
    {
     "name": "stderr",
     "output_type": "stream",
     "text": [
      "/opt/conda/lib/python3.6/site-packages/sklearn/metrics/classification.py:1135: UndefinedMetricWarning: Precision and F-score are ill-defined and being set to 0.0 in labels with no predicted samples.\n",
      "  'precision', 'predicted', average, warn_for)\n"
     ]
    }
   ],
   "source": [
    "print(classification_report(base_truth_xgb_big,pred_xgb))"
   ]
  },
  {
   "cell_type": "code",
   "execution_count": null,
   "metadata": {},
   "outputs": [],
   "source": [
    "BARU vv"
   ]
  },
  {
   "cell_type": "code",
   "execution_count": 20,
   "metadata": {},
   "outputs": [
    {
     "name": "stdout",
     "output_type": "stream",
     "text": [
      "Start Time : 2018-07-20 10:12:36.294887\n",
      "\n",
      "Finish Time : 2018-07-20 10:37:36.131524\n",
      "\n"
     ]
    },
    {
     "name": "stderr",
     "output_type": "stream",
     "text": [
      "/opt/conda/lib/python3.6/site-packages/sklearn/preprocessing/label.py:151: DeprecationWarning: The truth value of an empty array is ambiguous. Returning False, but in future this will result in an error. Use `array.size > 0` to check that an array is not empty.\n",
      "  if diff:\n"
     ]
    }
   ],
   "source": [
    "print(\"Start Time : {}\\n\".format(str(datetime.datetime.now())))\n",
    "baseline_xgb_big=XGB(n_jobs=-1,silent=True,objective=\"multi:softmax\")\n",
    "baseline_xgb_big.fit(X_train,y_train)\n",
    "base_truth_xgb_big=y_test\n",
    "pred_xgb_big=baseline_xgb_big.predict(X_test)\n",
    "print(\"Finish Time : {}\\n\".format(str(datetime.datetime.now())))"
   ]
  },
  {
   "cell_type": "code",
   "execution_count": null,
   "metadata": {},
   "outputs": [
    {
     "name": "stdout",
     "output_type": "stream",
     "text": [
      "Start Time : 2018-07-20 10:52:19.287046\n",
      "\n"
     ]
    }
   ],
   "source": [
    "print(\"Start Time : {}\\n\".format(str(datetime.datetime.now())))\n",
    "baseline_xgb_big_2=XGB(n_jobs=-1,silent=True,max_depth=6,objective=\"multi:softmax\")\n",
    "baseline_xgb_big_2.fit(X_train,y_train)\n",
    "base_truth_xgb_big_2=y_test\n",
    "pred_xgb_big_2=baseline_xgb_big_2.predict(X_test)\n",
    "print(\"Finish Time : {}\\n\".format(str(datetime.datetime.now())))"
   ]
  },
  {
   "cell_type": "code",
   "execution_count": null,
   "metadata": {},
   "outputs": [],
   "source": [
    "print(\"Start Time : {}\\n\".format(str(datetime.datetime.now())))\n",
    "baseline_lr=LR(n_jobs=-1,solver=\"saga\")\n",
    "baseline_lr.fit(X_train,y_train)\n",
    "print(\"Finish Time : {}\\n\".format(str(datetime.datetime.now())))"
   ]
  },
  {
   "cell_type": "code",
   "execution_count": 22,
   "metadata": {},
   "outputs": [
    {
     "name": "stdout",
     "output_type": "stream",
     "text": [
      "2\n"
     ]
    }
   ],
   "source": [
    "print(2)"
   ]
  },
  {
   "cell_type": "code",
   "execution_count": 24,
   "metadata": {},
   "outputs": [
    {
     "name": "stdout",
     "output_type": "stream",
     "text": [
      "             precision    recall  f1-score   support\n",
      "\n",
      "          0       0.67      0.63      0.65      3821\n",
      "          1       0.79      0.63      0.70       823\n",
      "          2       0.76      0.84      0.80      9548\n",
      "          3       0.82      0.71      0.76      4739\n",
      "          4       0.79      0.64      0.71       767\n",
      "          5       0.91      0.93      0.92     10552\n",
      "          6       0.72      0.82      0.77      9319\n",
      "          7       0.61      0.40      0.49      1491\n",
      "          8       0.88      0.85      0.86      2323\n",
      "          9       0.76      0.59      0.66      1264\n",
      "         10       0.86      0.86      0.86      5420\n",
      "         11       0.85      0.77      0.81      3464\n",
      "         12       0.89      0.91      0.90      8696\n",
      "         13       0.81      0.74      0.77      5409\n",
      "         14       0.82      0.75      0.79      1396\n",
      "         15       0.87      0.64      0.74       777\n",
      "         16       0.71      0.47      0.57       646\n",
      "         17       0.68      0.76      0.72      5772\n",
      "         18       0.90      0.87      0.88      2603\n",
      "         19       0.66      0.56      0.61        73\n",
      "\n",
      "avg / total       0.80      0.80      0.80     78903\n",
      "\n"
     ]
    }
   ],
   "source": [
    "print(classification_report(base_truth_xgb_big_2,pred_xgb_big_2))"
   ]
  },
  {
   "cell_type": "code",
   "execution_count": null,
   "metadata": {},
   "outputs": [],
   "source": []
  }
 ],
 "metadata": {
  "kernelspec": {
   "display_name": "Python 3",
   "language": "python",
   "name": "python3"
  },
  "language_info": {
   "codemirror_mode": {
    "name": "ipython",
    "version": 3
   },
   "file_extension": ".py",
   "mimetype": "text/x-python",
   "name": "python",
   "nbconvert_exporter": "python",
   "pygments_lexer": "ipython3",
   "version": "3.6.3"
  }
 },
 "nbformat": 4,
 "nbformat_minor": 2
}
